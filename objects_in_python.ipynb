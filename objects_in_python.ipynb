{
 "metadata": {
  "language_info": {
   "codemirror_mode": {
    "name": "ipython",
    "version": 3
   },
   "file_extension": ".py",
   "mimetype": "text/x-python",
   "name": "python",
   "nbconvert_exporter": "python",
   "pygments_lexer": "ipython3",
   "version": 3
  },
  "orig_nbformat": 4
 },
 "nbformat": 4,
 "nbformat_minor": 2,
 "cells": [
  {
   "source": [
    "## Tạo class mới và thêm thuộc tính (Attribute)"
   ],
   "cell_type": "markdown",
   "metadata": {}
  },
  {
   "cell_type": "code",
   "execution_count": null,
   "metadata": {},
   "outputs": [],
   "source": [
    "class Point: \n",
    "    pass \n",
    " \n",
    "p1 = Point() \n",
    "p2 = Point() \n",
    " \n",
    "p1.x = 5    # thêm thuộc tính tùy thích với cú pháp <object>.<attribute> = <value> (dot notation)\n",
    "p1.y = 4 \n",
    " \n",
    "p2.x = 3 \n",
    "p2.y = 6 \n",
    "\n",
    "print(p1)\n",
    "print(p1.x, p1.y) \n",
    "print(p2.x, p2.y) "
   ]
  },
  {
   "source": [
    "Trong Python, một phương thức (method) có định nghĩa giống hệt như một hàm (function). Điểm khác biệt duy nhất là tất cả methods cần một đối số bắt buộc (thông thường được đặt tên là `self`). Đối số này tham chiếu đến đối tượng đã gọi đến method này. Vd dưới đây ta thêm method reset vào class Point ở trên và gọi đến thuộc tính x, y của đối tượng đó.\n",
    "```\n",
    "def reset(self): \n",
    "    self.x = 0 \n",
    "    self.y = 0\n",
    "```"
   ],
   "cell_type": "markdown",
   "metadata": {}
  },
  {
   "source": [
    "## Nhiều đối số"
   ],
   "cell_type": "markdown",
   "metadata": {}
  },
  {
   "cell_type": "code",
   "execution_count": null,
   "metadata": {},
   "outputs": [],
   "source": [
    "import math\n",
    "\n",
    "\n",
    "class Point:\n",
    "    def move(self, x, y):\n",
    "        self.x = x\n",
    "        self.y = y\n",
    "\n",
    "    def reset(self):\n",
    "        self.move(0, 0)\n",
    "\n",
    "    def calculate_distance(self, other_point):\n",
    "        return math.sqrt((self.x - other_point.x) ** 2 + (self.y - other_point.y) ** 2)\n",
    "\n",
    "# how to use it:\n",
    "point1 = Point()\n",
    "point2 = Point()\n",
    "\n",
    "point1.reset()\n",
    "point2.move(5, 0)\n",
    "print(point2.calculate_distance(point1))\n",
    "assert point2.calculate_distance(point1) == point1.calculate_distance(point2)\n",
    "point1.move(3, 4)\n",
    "print(point1.calculate_distance(point2))\n",
    "print(point1.calculate_distance(point1))"
   ]
  },
  {
   "source": [
    "## Instance Variable vs Class Variable"
   ],
   "cell_type": "markdown",
   "metadata": {}
  },
  {
   "source": [
    "class RateOfInterest:\n",
    "    def __init__(self, name, loan, interest):\n",
    "        self.name = name\n",
    "        self.loan = loan\n",
    "        self.interest = interest\n",
    "\n",
    "    def calc_interest(self):\n",
    "        print(\"Total interest: \", self.loan * self.interest)\n",
    "\n",
    "p1 = RateOfInterest(\"Hương\", 5000000, 0.10)\n",
    "p1.calc_interest()\n",
    "\n",
    "p2 = RateOfInterest(\"Thảo\", 2000000, 0.10)\n",
    "p2.calc_interest()"
   ],
   "cell_type": "code",
   "metadata": {},
   "execution_count": null,
   "outputs": []
  },
  {
   "cell_type": "code",
   "execution_count": null,
   "metadata": {},
   "outputs": [],
   "source": [
    "class RateOfInterest:\n",
    "    interest = 0.09\n",
    "    def __init__(self, name, loan):\n",
    "        self.name = name\n",
    "        self.loan = loan\n",
    "\n",
    "    def calc_interest(self):\n",
    "        print(\"Total interest: \", self.loan * self.interest)        # compare with RateOfInterest.interest\n",
    "\n",
    "p1 = RateOfInterest(\"Hương\", 5000000)\n",
    "# RateOfInterest.interest = 0.08\n",
    "p1.calc_interest()\n",
    "\n",
    "p2 = RateOfInterest(\"Thảo\", 2000000)\n",
    "p2.interest = 0.11\n",
    "p2.calc_interest()"
   ]
  }
 ]
}