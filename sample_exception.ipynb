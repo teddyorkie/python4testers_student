{
 "metadata": {
  "language_info": {
   "codemirror_mode": {
    "name": "ipython",
    "version": 3
   },
   "file_extension": ".py",
   "mimetype": "text/x-python",
   "name": "python",
   "nbconvert_exporter": "python",
   "pygments_lexer": "ipython3",
   "version": "3.9.5"
  },
  "orig_nbformat": 4,
  "kernelspec": {
   "name": "python3",
   "display_name": "Python 3.9.5 64-bit ('python_tester_env': venv)"
  },
  "interpreter": {
   "hash": "24cd0c75bfe4a706d6789947de4493a267f99aa12d72755b5ca874abcfbcc979"
  }
 },
 "nbformat": 4,
 "nbformat_minor": 2,
 "cells": [
  {
   "cell_type": "code",
   "execution_count": null,
   "metadata": {},
   "outputs": [],
   "source": [
    "class EvenOnly(list): \n",
    "    def append(self, integer): \n",
    "        if not isinstance(integer, int): \n",
    "            raise TypeError(\"Only integers can be added\") \n",
    "        if integer % 2: \n",
    "            raise ValueError(\"Only even numbers can be added\") \n",
    "        super().append(integer) "
   ]
  },
  {
   "cell_type": "code",
   "execution_count": null,
   "metadata": {},
   "outputs": [],
   "source": [
    "e = EvenOnly()\n",
    "e.append(\"a string\")"
   ]
  },
  {
   "cell_type": "code",
   "execution_count": null,
   "metadata": {},
   "outputs": [],
   "source": [
    "e.append(3)"
   ]
  },
  {
   "cell_type": "code",
   "execution_count": null,
   "metadata": {},
   "outputs": [],
   "source": [
    "def no_return(): \n",
    "    print(\"I am about to raise an exception\") \n",
    "    raise Exception(\"This is always raised\") \n",
    "    print(\"This line will never execute\") \n",
    "    return \"I won't be returned\" \n",
    "no_return()"
   ]
  },
  {
   "source": [
    "Nếu có một hàm gọi hàm khác có raise exception thì hàm gọi sẽ không tiếp tục tại điểm mà hàm có exception được gọi."
   ],
   "cell_type": "markdown",
   "metadata": {}
  },
  {
   "cell_type": "code",
   "execution_count": null,
   "metadata": {},
   "outputs": [],
   "source": [
    "def call_exceptor(): \n",
    "    print(\"call_exceptor starts here...\") \n",
    "    no_return() \n",
    "    print(\"an exception was raised...\") \n",
    "    print(\"...so these lines don't run\") \n",
    "call_exceptor()"
   ]
  },
  {
   "source": [
    "## Xử lý exception với try...except"
   ],
   "cell_type": "markdown",
   "metadata": {}
  },
  {
   "cell_type": "code",
   "execution_count": null,
   "metadata": {},
   "outputs": [],
   "source": [
    "try: \n",
    "    no_return() \n",
    "except: \n",
    "    print(\"I caught an exception\") \n",
    "print(\"executed after the exception\") "
   ]
  },
  {
   "source": [
    "Ta có thể bắt 2 hoặc nhiều exceptions một lúc với ví dụ dưới đây. Hoặc nối các câu lệnh xử lý exception chồng lên nhau"
   ],
   "cell_type": "markdown",
   "metadata": {}
  },
  {
   "cell_type": "code",
   "execution_count": null,
   "metadata": {},
   "outputs": [],
   "source": [
    "def funny_division2(divider):\n",
    "    try:\n",
    "        if divider == 13:\n",
    "            raise ValueError(\"13 is an unlucky number\")\n",
    "        return 100 / divider\n",
    "    except (ZeroDivisionError, TypeError):\n",
    "        return \"Enter a number other than zero\"\n",
    "\n",
    "\n",
    "for val in (0, \"hello\", 50.0, 13):\n",
    "\n",
    "    print(\"Testing {}:\".format(val), end=\" \")\n",
    "    print(funny_division2(val))"
   ]
  },
  {
   "cell_type": "code",
   "execution_count": null,
   "metadata": {},
   "outputs": [],
   "source": [
    "def funny_division3(divider):\n",
    "    try:\n",
    "        if divider == 13:\n",
    "            raise ValueError(\"13 is an unlucky number\")\n",
    "        return 100 / divider\n",
    "    except ZeroDivisionError:\n",
    "        return \"Enter a number other than zero\"\n",
    "    except TypeError:\n",
    "        return \"Enter a numerical value\"\n",
    "    except ValueError:\n",
    "        print(\"No, No, not 13!\")\n",
    "        raise"
   ]
  }
 ]
}