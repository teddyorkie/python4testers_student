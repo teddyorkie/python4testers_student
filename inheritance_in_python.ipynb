{
 "metadata": {
  "language_info": {
   "codemirror_mode": {
    "name": "ipython",
    "version": 3
   },
   "file_extension": ".py",
   "mimetype": "text/x-python",
   "name": "python",
   "nbconvert_exporter": "python",
   "pygments_lexer": "ipython3",
   "version": "3.9.5"
  },
  "orig_nbformat": 4,
  "kernelspec": {
   "name": "python3",
   "display_name": "Python 3.9.5 64-bit ('python_tester_env': venv)"
  },
  "interpreter": {
   "hash": "24cd0c75bfe4a706d6789947de4493a267f99aa12d72755b5ca874abcfbcc979"
  }
 },
 "nbformat": 4,
 "nbformat_minor": 2,
 "cells": [
  {
   "cell_type": "code",
   "execution_count": 9,
   "metadata": {},
   "outputs": [
    {
     "output_type": "stream",
     "name": "stdout",
     "text": [
      "I'm a black piece in the chessSet\nI'm a white pawn in B col. I only move forward 1 or 2 step\nI'm a black piece in the chessSet- I can go horizontally or vertically up to 8 step\n"
     ]
    }
   ],
   "source": [
    "class Piece:\n",
    "    def __init__(self, color):\n",
    "        self.color = color\n",
    "        # print(\"Parent class instance\")\n",
    "    \n",
    "    def __str__(self):\n",
    "        return \"I'm a {} piece in the chessSet\".format(self.color)\n",
    "\n",
    "class Pawn(Piece):\n",
    "    def __init__(self, color, col):\n",
    "        Piece.__init__(self, color)\n",
    "        self.col = col\n",
    "\n",
    "    def __str__(self):\n",
    "        return \"I'm a {} pawn in {} col. I only move forward 1 or 2 step\".format(self.color, self.col)\n",
    "\n",
    "class Rook(Piece):\n",
    "    def __init__(self, color, col):\n",
    "        super().__init__(color)\n",
    "        self.col = col\n",
    "\n",
    "    def __str__(self):\n",
    "        return super().__str__() + \"- I can go horizontally or vertically up to 8 step\"\n",
    "\n",
    "piece = Piece(\"black\")\n",
    "print(piece)\n",
    "\n",
    "pawnB = Pawn(\"white\", \"B\")\n",
    "print(pawnB)\n",
    "\n",
    "rookH = Rook(\"black\", \"H\")\n",
    "print(rookH)"
   ]
  }
 ]
}