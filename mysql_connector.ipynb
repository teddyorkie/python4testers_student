{
 "metadata": {
  "language_info": {
   "codemirror_mode": {
    "name": "ipython",
    "version": 3
   },
   "file_extension": ".py",
   "mimetype": "text/x-python",
   "name": "python",
   "nbconvert_exporter": "python",
   "pygments_lexer": "ipython3",
   "version": "3.9.5"
  },
  "orig_nbformat": 4,
  "kernelspec": {
   "name": "python3",
   "display_name": "Python 3.9.5 64-bit ('python_tester_env': venv)"
  },
  "interpreter": {
   "hash": "24cd0c75bfe4a706d6789947de4493a267f99aa12d72755b5ca874abcfbcc979"
  }
 },
 "nbformat": 4,
 "nbformat_minor": 2,
 "cells": [
  {
   "source": [
    "## Thử kết nối"
   ],
   "cell_type": "markdown",
   "metadata": {}
  },
  {
   "cell_type": "code",
   "execution_count": 1,
   "metadata": {},
   "outputs": [
    {
     "output_type": "execute_result",
     "data": {
      "text/plain": [
       "<mysql.connector.connection.MySQLConnection at 0x26d86f9d970>"
      ]
     },
     "metadata": {},
     "execution_count": 1
    }
   ],
   "source": [
    "import mysql.connector\n",
    "mysql.connector.connect(host='remotemysql.com',database='6ofbUUzXBM',user='6ofbUUzXBM',password='Yrzy7xi6XQ')\n"
   ]
  },
  {
   "source": [
    "## Kết nối bằng hàm trong Python"
   ],
   "cell_type": "markdown",
   "metadata": {}
  },
  {
   "cell_type": "code",
   "execution_count": 6,
   "metadata": {},
   "outputs": [
    {
     "output_type": "stream",
     "name": "stdout",
     "text": [
      "<mysql.connector.connection.MySQLConnection object at 0x000002D92A692DF0>\n"
     ]
    }
   ],
   "source": [
    "from mysql.connector import MySQLConnection, Error\n",
    " \n",
    "# Hàm kết nối\n",
    "def connect():\n",
    "    \"\"\" Kết nối MySQL bằng module MySQLConnection \"\"\"\n",
    "    db_config = {\n",
    "        'host': 'remotemysql.com',\n",
    "        'database': '6ofbUUzXBM',\n",
    "        'user': '6ofbUUzXBM',\n",
    "        'password': 'Yrzy7xi6XQ'\n",
    "    }\n",
    " \n",
    "    # Biến lưu trữ kết nối\n",
    "    conn = None\n",
    " \n",
    "    try:\n",
    "        conn = MySQLConnection(**db_config)\n",
    "        if conn.is_connected():\n",
    "            return conn\n",
    "    except Error as error:\n",
    "        print(error)\n",
    " \n",
    "    return conn\n",
    " \n",
    "# Test thử\n",
    "conn = connect()\n",
    "print(conn)"
   ]
  },
  {
   "source": [
    "## Lấy dữ liệu MySQL\n",
    "### Dùng fetchone()"
   ],
   "cell_type": "markdown",
   "metadata": {}
  },
  {
   "cell_type": "code",
   "execution_count": 7,
   "metadata": {},
   "outputs": [],
   "source": [
    "def show_offices():\n",
    "    try:\n",
    "        conn = connect()\n",
    "\n",
    "        cursor = conn.cursor()\n",
    "        cursor.execute(\"SELECT * FROM offices\")\n",
    " \n",
    "        row = cursor.fetchone()\n",
    " \n",
    "        while row is not None:\n",
    "            print(row)\n",
    "            row = cursor.fetchone()\n",
    " \n",
    "    except Error as e:\n",
    "        print(e)\n",
    " \n",
    "    finally:\n",
    "        # Đóng kết nối\n",
    "        cursor.close()\n",
    "        conn.close()"
   ]
  },
  {
   "source": [
    "### Fetchall()\n",
    "* Lưu ý: Với dữ liệu lớn thì ta không nên sử dụng phương thức này bởi nó sẽ tốn nhiều tài nguyên để lưu trữ data trả về, trường hợp xấu nhất là làm ứng dụng bị chết."
   ],
   "cell_type": "markdown",
   "metadata": {}
  },
  {
   "cell_type": "code",
   "execution_count": null,
   "metadata": {},
   "outputs": [],
   "source": [
    "def show_productlines():\n",
    "    try:\n",
    "        conn = connect()\n",
    "        cursor = conn.cursor()\n",
    "        cursor.execute(\"SELECT * FROM productlines\")\n",
    " \n",
    "        rows = cursor.fetchall()\n",
    " \n",
    "        print('Total Row(s):', cursor.rowcount)\n",
    "        for row in rows:\n",
    "            print(row)\n",
    " \n",
    "    except Error as e:\n",
    "        print(e)\n",
    " \n",
    "    finally:\n",
    "        # Đóng kết nối\n",
    "        cursor.close()\n",
    "        conn.close()"
   ]
  },
  {
   "source": [
    "### Fetchmany()\n",
    "\n",
    "Đầu tiên hãy xây dựng một hàm có công dụng tra về số dòng dữ liệu như tham số truyền vào.\n",
    "Tiếp theo ta có thể sử dụng ham fiter_row để lấy mỗi lần 10 rows cho mỗi lần fetch dữ liệu."
   ],
   "cell_type": "markdown",
   "metadata": {}
  },
  {
   "cell_type": "code",
   "execution_count": 21,
   "metadata": {},
   "outputs": [],
   "source": [
    "def iter_row(cursor, page, size=10):\n",
    "    \n",
    "count = 0    while Trcount < page \n",
    "         count += 1      rows = cursor.fetchmany(size)\n",
    "        if not rows:\n",
    "            break\n",
    "        for row in rows:\n",
    "            yield row\n",
    "         def show_products()page, size=10:\n",
    "    try:\n",
    "        conn = connect()\n",
    "        cursor = conn.cursor()\n",
    "   buffered=True     cursor.execute(\"SELECT * FROMproductCode, productNamebookproducts\n",
    "        for row in iter_row(cursor, 10):\n",
    "  page, size        print(row)\n",
    " \n",
    "    except Error as e:\n",
    "        print(e)\n",
    " \n",
    "    finally:\n",
    "        # Đóng kết nối\n",
    "        cursor.close()\n",
    "        conn.close()"
   ]
  },
  {
   "cell_type": "code",
   "execution_count": 22,
   "metadata": {
    "tags": []
   },
   "outputs": [
    {
     "output_type": "stream",
     "name": "stdout",
     "text": [
      "('S10_1678', '1969 Harley Davidson Ultimate Chopper')\n('S10_1949', '1952 Alpine Renault 1300')\n('S10_2016', '1996 Moto Guzzi 1100i')\n('S10_4698', '2003 Harley-Davidson Eagle Drag Bike')\n('S10_4757', '1972 Alfa Romeo GTA')\n('S10_4962', '1962 LanciaA Delta 16V')\n"
     ]
    }
   ],
   "source": [
    "show_products(2, 3)"
   ]
  }
 ]
}