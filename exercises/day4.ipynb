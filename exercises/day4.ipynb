{
 "cells": [
  {
   "cell_type": "markdown",
   "source": [
    "Điểm thi học kỳ của sinh viên được lưu ở định dạng 1 tuple có 3 phần tử (m1, m2, e) gồm:\r\n",
    "m1 = midterm1\r\n",
    "m2 = midterm2\r\n",
    "e = endterm \r\n",
    "\r\n",
    "Cho một list gồm danh sách điểm thi của sinh viên 1 lớp. Viết chương trình Python để sắp xếp danh sách trước theo thứ tự tăng dần theo phần tử cuối cùng trong mỗi tuple (sắp xếp theo điểm cuối kỳ - endterm tăng dần)."
   ],
   "metadata": {}
  },
  {
   "cell_type": "code",
   "execution_count": 3,
   "source": [
    "def sort_list_last(tuples):\r\n",
    "  def last(n): return n[-1]\r\n",
    "  return sorted(tuples, key=last)\r\n",
    "\r\n",
    "print(sort_list_last([(1, 2, 5), (9, 1, 2), (6, 4, 4), (3, 2, 3), (10, 2, 1)]))"
   ],
   "outputs": [
    {
     "output_type": "stream",
     "name": "stdout",
     "text": [
      "[(10, 2, 1), (9, 1, 2), (3, 2, 3), (6, 4, 4), (1, 2, 5)]\n"
     ]
    }
   ],
   "metadata": {}
  },
  {
   "cell_type": "code",
   "execution_count": 11,
   "source": [
    "# Cách số 1\r\n",
    "def reverse_words_order_and_swap_cases(sentence):\r\n",
    "    result = ''\r\n",
    "    reverseWords = sentence[::-1].split(' ')\r\n",
    "    for word in reverseWords:\r\n",
    "        w = ''\r\n",
    "        for c in word:\r\n",
    "            if c.islower():\r\n",
    "                w += c.upper()\r\n",
    "            else:\r\n",
    "                w += c.lower()\r\n",
    "        result += w[::-1] + ' '\r\n",
    "\r\n",
    "    return result.strip()"
   ],
   "outputs": [],
   "metadata": {}
  },
  {
   "cell_type": "code",
   "execution_count": 5,
   "source": [
    "# Cách số 2\r\n",
    "def reverse_and_swap(sentence):\r\n",
    "    result = ''\r\n",
    "    reverseWords = sentence[::-1].split(' ')\r\n",
    "    for word in reverseWords:\r\n",
    "        result += word[::-1].swapcase() + ' '\r\n",
    "    return result.strip()\r\n",
    "\r\n",
    "print(reverse_and_swap(\"tHE fOX iS cOMING fOR tHE cHICKEN\"))"
   ],
   "outputs": [
    {
     "output_type": "stream",
     "name": "stdout",
     "text": [
      "Chicken The For Coming Is Fox The\n"
     ]
    }
   ],
   "metadata": {}
  },
  {
   "cell_type": "code",
   "execution_count": 13,
   "source": [
    "# Cách số 3\r\n",
    "sentence = \"tHE fOX iS cOMING fOR tHE cHICKEN\"\r\n",
    "reverseWords = sentence[::-1].split(' ')\r\n",
    "' '.join(word[::-1].swapcase() for word in reverseWords)"
   ],
   "outputs": [
    {
     "output_type": "stream",
     "name": "stdout",
     "text": [
      "Chicken The For Coming Is Fox The\n"
     ]
    },
    {
     "output_type": "execute_result",
     "data": {
      "text/plain": [
       "'Chicken The For Coming Is Fox The'"
      ]
     },
     "metadata": {},
     "execution_count": 13
    }
   ],
   "metadata": {}
  },
  {
   "cell_type": "markdown",
   "source": [
    "Dùng list comprehension lấy ra tất cả các phụ âm trong câu"
   ],
   "metadata": {}
  },
  {
   "cell_type": "code",
   "execution_count": null,
   "source": [
    "def is_consonant(letter):\r\n",
    "    # kiểm tra xem letter có phải là chữ và không phải nguyên âm --> True\r\n",
    "    vowels = 'aeiou'\r\n",
    "    return letter.isalpha() and letter.lower() not in vowels\r\n",
    "consonants = [i for i in sentence if is_consonant(i)]"
   ],
   "outputs": [],
   "metadata": {}
  }
 ],
 "metadata": {
  "orig_nbformat": 4,
  "language_info": {
   "name": "python",
   "version": "3.9.5",
   "mimetype": "text/x-python",
   "codemirror_mode": {
    "name": "ipython",
    "version": 3
   },
   "pygments_lexer": "ipython3",
   "nbconvert_exporter": "python",
   "file_extension": ".py"
  },
  "kernelspec": {
   "name": "python3",
   "display_name": "Python 3.9.5 64-bit ('python_tester_env': venv)"
  },
  "interpreter": {
   "hash": "24cd0c75bfe4a706d6789947de4493a267f99aa12d72755b5ca874abcfbcc979"
  }
 },
 "nbformat": 4,
 "nbformat_minor": 2
}