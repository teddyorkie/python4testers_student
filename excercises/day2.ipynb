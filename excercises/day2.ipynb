{
 "cells": [
  {
   "cell_type": "markdown",
   "source": [
    "Viết chương trình Python kiểm tra số lớn nhất trong 3 số\r\n",
    "\r\n",
    "- Khai báo 3 biến `a`, `b`, `c` nhập giá trị số bất kỳ (int)\r\n",
    "- Kiểm tra và in ra số lớn nhất trong 3 số đó"
   ],
   "metadata": {}
  },
  {
   "cell_type": "code",
   "execution_count": null,
   "source": [],
   "outputs": [],
   "metadata": {}
  },
  {
   "cell_type": "markdown",
   "source": [
    "Viết chương trình kiểm tra một năm có phải năm nhuận hay không\r\n",
    "\r\n",
    "- Nhập một năm `year` - int\r\n",
    "- Kiểm tra và in ra kết quả `year` có phải năm nhuận hay không\r\n",
    "\r\n",
    "💡 Năm nhuận là năm:\r\n",
    "\r\n",
    "- Chia hết cho 400\r\n",
    "- Chia hết cho 4 **nhưng** không chia hết cho 100"
   ],
   "metadata": {}
  },
  {
   "cell_type": "code",
   "execution_count": null,
   "source": [],
   "outputs": [],
   "metadata": {}
  },
  {
   "cell_type": "markdown",
   "source": [
    "Viết chương trình tính chỉ số BMI (Body Mass Index - Chỉ số cơ thể)\r\n",
    "\r\n",
    "- Nhập chiều cao `h` (đơn vị m) và cân nặng `w` (đơn vị kg)\r\n",
    "- Tính chỉ số BMI: `w / (h * h)`\r\n",
    "- In chỉ số và thông báo kết quả theo quy ước:\r\n",
    "    -  BMI < 17: Gầy độ II\r\n",
    "    - 17 <= BMI < 18.5: Gầy độ I\r\n",
    "    - 18.5 <= BMI < 25: Bình thường\r\n",
    "    - 25 <= BMI < 30: Thừa cân\r\n",
    "    - 30 <= BMI < 35: Béo phì độ I\r\n",
    "    - 35 <= BMI: Béo phì độ II"
   ],
   "metadata": {}
  },
  {
   "cell_type": "markdown",
   "source": [],
   "metadata": {}
  },
  {
   "cell_type": "markdown",
   "source": [
    "Viết chương trình lấy ra danh sách các số duy nhất trong list"
   ],
   "metadata": {}
  },
  {
   "cell_type": "code",
   "execution_count": null,
   "source": [
    "my_list = [10, 20, 30, 40, 20, 50, 60, 40]\r\n",
    "print(\"Original List : \",my_list)\r\n",
    "my_set = set(my_list)\r\n",
    "my_new_list = list(my_set)\r\n",
    "print(\"List of unique numbers : \",my_new_list)"
   ],
   "outputs": [],
   "metadata": {}
  },
  {
   "cell_type": "markdown",
   "source": [
    "Điểm thi học kỳ của sinh viên được lưu ở định dạng 1 tuple có 3 phần tử (m1, m2, e) gồm:\r\n",
    "m1 = midterm1\r\n",
    "m2 = midterm2\r\n",
    "e = endterm \r\n",
    "\r\n",
    "Cho một list gồm danh sách điểm thi của sinh viên 1 lớp. Viết chương trình Python để sắp xếp danh sách trước theo thứ tự tăng dần theo phần tử cuối cùng trong mỗi tuple (sắp xếp theo điểm cuối kỳ - endterm tăng dần)."
   ],
   "metadata": {}
  },
  {
   "cell_type": "code",
   "execution_count": null,
   "source": [
    "def last(n): return n[-1]\r\n",
    "\r\n",
    "def sort_list_last(tuples):\r\n",
    "  return sorted(tuples, key=last)\r\n",
    "\r\n",
    "print(sort_list_last([(2, 5), (1, 2), (4, 4), (2, 3), (2, 1)]))"
   ],
   "outputs": [],
   "metadata": {}
  }
 ],
 "metadata": {
  "orig_nbformat": 4,
  "language_info": {
   "name": "python",
   "version": "3.9.5",
   "mimetype": "text/x-python",
   "codemirror_mode": {
    "name": "ipython",
    "version": 3
   },
   "pygments_lexer": "ipython3",
   "nbconvert_exporter": "python",
   "file_extension": ".py"
  },
  "kernelspec": {
   "name": "python3",
   "display_name": "Python 3.9.5 64-bit ('python_tester_env': venv)"
  },
  "interpreter": {
   "hash": "24cd0c75bfe4a706d6789947de4493a267f99aa12d72755b5ca874abcfbcc979"
  }
 },
 "nbformat": 4,
 "nbformat_minor": 2
}