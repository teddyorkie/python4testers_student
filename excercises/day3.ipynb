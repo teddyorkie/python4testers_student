{
 "cells": [
  {
   "cell_type": "markdown",
   "source": [
    "Viết chương trình in ra thời gian đếm ngược đến XMas 2021 sau mỗi 10s"
   ],
   "metadata": {}
  },
  {
   "cell_type": "code",
   "execution_count": null,
   "source": [
    "import time\r\n",
    "from datetime import datetime\r\n",
    "\r\n",
    "while True:\r\n",
    "    time.sleep(5)\r\n",
    "    XMAS_DATE = datetime(year=2021, month=12, day=24)\r\n",
    "    countdown = XMAS_DATE - datetime.now()\r\n",
    "    print(f\"Countdown to Xmas 2021: {countdown}\")"
   ],
   "outputs": [],
   "metadata": {}
  },
  {
   "cell_type": "code",
   "execution_count": null,
   "source": [
    "# Viết chương trình lấy ra danh sách các số duy nhất trong list\r\n",
    "my_list = [10, 20, 30, 40, 20, 50, 60, 40]\r\n",
    "print(\"Original List : \", my_list)\r\n",
    "my_set = set(my_list)\r\n",
    "my_new_list = list(my_set)\r\n",
    "print(\"List of unique numbers : \", my_new_list)"
   ],
   "outputs": [],
   "metadata": {}
  },
  {
   "cell_type": "markdown",
   "source": [
    "### Unique value Dictionary:\r\n",
    "Cho một list gồm 1 hoặc nhiều từ điển (Dictionary). Viết hàm để trả ra tập hợp tất cả các giá trị (values) duy nhất trong tất cả danh sách các từ điển trên. \r\n",
    "\r\n",
    "[VD1]: Trường hợp dưới đây danh sách đầu vào có 1 từ điển map tên người vào tuổi của họ. Trả ra set các tuổi duy nhất.\r\n",
    "\r\n",
    "    unique_value_dict([dict(Trang=38, Thu=38, Ngoc=27, Thanh=26, Yen=25, Hang=22, Thuy=22)]) == {22, 25, 26, 27, 38}\r\n",
    "\r\n",
    "[VD2]: Trường hợp dưới đây danh sách đầu vào có 7 dicts, mỗi dict chỉ có 1 cặp key-values. 5 giá trị trả về là duy nhất.\r\n",
    "\r\n",
    "    unique_value_dict([{\"V\":\"S001\"}, {\"V\": \"S002\"}, {\"VI\": \"S001\"}, {\"VI\": \"S005\"}, {\"VII\":\"S005\"}, {\"V\":\"S009\"},{\"VIII\":\"S007\"}]) == {'S009', 'S007', 'S002', 'S001', 'S005'}"
   ],
   "metadata": {}
  },
  {
   "cell_type": "markdown",
   "source": [
    "### Print Star\r\n",
    "\r\n",
    "Hãy viết chương trình in ra các hình sau (dùng ký tự '*' và ký tự space) với n là số dòng. Vd: n = 4:\r\n",
    "\r\n",
    "1.\r\n",
    "```\r\n",
    "      *\r\n",
    "    * *\r\n",
    "  * * *\r\n",
    "* * * *\r\n",
    "```\r\n",
    "2. \r\n",
    "```\r\n",
    "*\r\n",
    "* *\r\n",
    "*   *\r\n",
    "* * * * * * * *\r\n",
    "          *   *\r\n",
    "            * *\r\n",
    "              *\r\n",
    "```"
   ],
   "metadata": {}
  },
  {
   "cell_type": "markdown",
   "source": [
    "### Find Pair\r\n",
    "Cho list A chứa các số nguyên đã sắp xếp theo thứ tự tăng dần.\r\n",
    "A = [3, 6, 7, 9, 11, 12] và một số nguyên sum. Tìm tất cả các cặp số (a,b) trong mảng A có tổng bằng sum\r\n",
    "vd ở đây nếu sum = 18 thì hàm find_pair(A, sum) == [(7,11), (6,12)]. Nếu không có cặp số nào thỏa mãn thì trả ra list rỗng"
   ],
   "metadata": {}
  },
  {
   "cell_type": "code",
   "execution_count": 4,
   "source": [
    "def find_pair(A, sum):\r\n",
    "    i, j = 0, len(A)-1\r\n",
    "    ans = []\r\n",
    "    while i < j:\r\n",
    "        s = A[i] + A[j]\r\n",
    "        if s == sum:\r\n",
    "            ans.append((A[i],A[j]))\r\n",
    "            j -= 1\r\n",
    "        elif s < sum:\r\n",
    "            i += 1\r\n",
    "        else:\r\n",
    "            j -= 1\r\n",
    "    return ans\r\n",
    "\r\n",
    "find_pair([3, 6, 7, 9, 11, 12], 18)"
   ],
   "outputs": [
    {
     "output_type": "execute_result",
     "data": {
      "text/plain": [
       "[(6, 12), (7, 11)]"
      ]
     },
     "metadata": {},
     "execution_count": 4
    }
   ],
   "metadata": {}
  }
 ],
 "metadata": {
  "orig_nbformat": 4,
  "language_info": {
   "name": "python",
   "version": "3.9.5",
   "mimetype": "text/x-python",
   "codemirror_mode": {
    "name": "ipython",
    "version": 3
   },
   "pygments_lexer": "ipython3",
   "nbconvert_exporter": "python",
   "file_extension": ".py"
  },
  "kernelspec": {
   "name": "python3",
   "display_name": "Python 3.9.5 64-bit ('python_tester_env': venv)"
  },
  "interpreter": {
   "hash": "24cd0c75bfe4a706d6789947de4493a267f99aa12d72755b5ca874abcfbcc979"
  }
 },
 "nbformat": 4,
 "nbformat_minor": 2
}