{
 "metadata": {
  "language_info": {
   "codemirror_mode": {
    "name": "ipython",
    "version": 3
   },
   "file_extension": ".py",
   "mimetype": "text/x-python",
   "name": "python",
   "nbconvert_exporter": "python",
   "pygments_lexer": "ipython3",
   "version": "3.9.5"
  },
  "orig_nbformat": 4,
  "kernelspec": {
   "name": "python3",
   "display_name": "Python 3.9.5 64-bit ('python_tester_env': venv)"
  },
  "interpreter": {
   "hash": "24cd0c75bfe4a706d6789947de4493a267f99aa12d72755b5ca874abcfbcc979"
  }
 },
 "nbformat": 4,
 "nbformat_minor": 2,
 "cells": [
  {
   "cell_type": "markdown",
   "source": [
    "## Thử kết nối"
   ],
   "metadata": {}
  },
  {
   "cell_type": "code",
   "execution_count": 1,
   "source": [
    "import mysql.connector\r\n",
    "mysql.connector.connect(host='remotemysql.com',database='6ofbUUzXBM',user='6ofbUUzXBM',password='Yrzy7xi6XQ')\r\n"
   ],
   "outputs": [
    {
     "output_type": "execute_result",
     "data": {
      "text/plain": [
       "<mysql.connector.connection.MySQLConnection at 0x26d86f9d970>"
      ]
     },
     "metadata": {},
     "execution_count": 1
    }
   ],
   "metadata": {}
  },
  {
   "cell_type": "markdown",
   "source": [
    "## Kết nối bằng hàm trong Python"
   ],
   "metadata": {}
  },
  {
   "cell_type": "code",
   "execution_count": 6,
   "source": [
    "from mysql.connector import MySQLConnection, Error\r\n",
    " \r\n",
    "# Hàm kết nối\r\n",
    "def connect():\r\n",
    "    \"\"\" Kết nối MySQL bằng module MySQLConnection \"\"\"\r\n",
    "    db_config = {\r\n",
    "        'host': 'remotemysql.com',\r\n",
    "        'database': '6ofbUUzXBM',\r\n",
    "        'user': '6ofbUUzXBM',\r\n",
    "        'password': 'Yrzy7xi6XQ'\r\n",
    "    }\r\n",
    " \r\n",
    "    # Biến lưu trữ kết nối\r\n",
    "    conn = None\r\n",
    " \r\n",
    "    try:\r\n",
    "        conn = MySQLConnection(**db_config)\r\n",
    "        if conn.is_connected():\r\n",
    "            return conn\r\n",
    "    except Error as error:\r\n",
    "        print(error)\r\n",
    " \r\n",
    "    return conn\r\n",
    " \r\n",
    "# Test thử\r\n",
    "conn = connect()\r\n",
    "print(conn)"
   ],
   "outputs": [
    {
     "output_type": "stream",
     "name": "stdout",
     "text": [
      "<mysql.connector.connection.MySQLConnection object at 0x000002D92A692DF0>\n"
     ]
    }
   ],
   "metadata": {}
  },
  {
   "cell_type": "markdown",
   "source": [
    "## Lấy dữ liệu MySQL\n",
    "### Dùng fetchone()"
   ],
   "metadata": {}
  },
  {
   "cell_type": "code",
   "execution_count": 7,
   "source": [
    "def show_offices():\r\n",
    "    try:\r\n",
    "        conn = connect()\r\n",
    "\r\n",
    "        cursor = conn.cursor()\r\n",
    "        cursor.execute(\"SELECT * FROM offices\")\r\n",
    " \r\n",
    "        row = cursor.fetchone()\r\n",
    " \r\n",
    "        while row is not None:\r\n",
    "            print(row)\r\n",
    "            row = cursor.fetchone()\r\n",
    " \r\n",
    "    except Error as e:\r\n",
    "        print(e)\r\n",
    " \r\n",
    "    finally:\r\n",
    "        # Đóng kết nối\r\n",
    "        cursor.close()\r\n",
    "        conn.close()"
   ],
   "outputs": [],
   "metadata": {}
  },
  {
   "cell_type": "markdown",
   "source": [
    "### Fetchall()\n",
    "* Lưu ý: Với dữ liệu lớn thì ta không nên sử dụng phương thức này bởi nó sẽ tốn nhiều tài nguyên để lưu trữ data trả về, trường hợp xấu nhất là làm ứng dụng bị chết."
   ],
   "metadata": {}
  },
  {
   "cell_type": "code",
   "execution_count": null,
   "source": [
    "def show_productlines():\r\n",
    "    try:\r\n",
    "        conn = connect()\r\n",
    "        cursor = conn.cursor()\r\n",
    "        cursor.execute(\"SELECT * FROM productlines\")\r\n",
    " \r\n",
    "        rows = cursor.fetchall()\r\n",
    " \r\n",
    "        print('Total Row(s):', cursor.rowcount)\r\n",
    "        for row in rows:\r\n",
    "            print(row)\r\n",
    " \r\n",
    "    except Error as e:\r\n",
    "        print(e)\r\n",
    " \r\n",
    "    finally:\r\n",
    "        # Đóng kết nối\r\n",
    "        cursor.close()\r\n",
    "        conn.close()"
   ],
   "outputs": [],
   "metadata": {}
  },
  {
   "cell_type": "markdown",
   "source": [
    "### Fetchmany()\n",
    "\n",
    "Đầu tiên hãy xây dựng một hàm có công dụng tra về số dòng dữ liệu như tham số truyền vào.\n",
    "Tiếp theo ta có thể sử dụng ham fiter_row để lấy mỗi lần 10 rows cho mỗi lần fetch dữ liệu."
   ],
   "metadata": {}
  },
  {
   "cell_type": "code",
   "execution_count": 21,
   "source": [
    "def iter_row(cursor, page, size=10):\r\n",
    "    count = 0\r\n",
    "    while count < page:\r\n",
    "        count += 1\r\n",
    "        rows = cursor.fetchmany(size)\r\n",
    "        if not rows:\r\n",
    "            break\r\n",
    "        for row in rows:\r\n",
    "            yield row\r\n",
    "\r\n",
    "def show_products(page, size=10):\r\n",
    "    try:\r\n",
    "        conn = connect()\r\n",
    "        cursor = conn.cursor(buffered=True)\r\n",
    "\r\n",
    "        cursor.execute(\"SELECT productCode, productName FROM products\")\r\n",
    "        for row in iter_row(cursor, 10):\r\n",
    "            print(row)\r\n",
    " \r\n",
    "    except Error as e:\r\n",
    "        print(e)\r\n",
    " \r\n",
    "    finally:\r\n",
    "        # Đóng kết nối\r\n",
    "        cursor.close()\r\n",
    "        conn.close()"
   ],
   "outputs": [],
   "metadata": {}
  },
  {
   "cell_type": "code",
   "execution_count": 22,
   "source": [
    "show_products(2, 3)"
   ],
   "outputs": [
    {
     "output_type": "stream",
     "name": "stdout",
     "text": [
      "('S10_1678', '1969 Harley Davidson Ultimate Chopper')\n",
      "('S10_1949', '1952 Alpine Renault 1300')\n",
      "('S10_2016', '1996 Moto Guzzi 1100i')\n",
      "('S10_4698', '2003 Harley-Davidson Eagle Drag Bike')\n",
      "('S10_4757', '1972 Alfa Romeo GTA')\n",
      "('S10_4962', '1962 LanciaA Delta 16V')\n"
     ]
    }
   ],
   "metadata": {
    "tags": []
   }
  }
 ]
}