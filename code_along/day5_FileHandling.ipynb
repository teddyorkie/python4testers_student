{
 "cells": [
  {
   "cell_type": "markdown",
   "source": [
    "## Module và Package"
   ],
   "metadata": {}
  },
  {
   "cell_type": "code",
   "execution_count": null,
   "source": [
    "import math\r\n",
    "math.pi"
   ],
   "outputs": [],
   "metadata": {}
  },
  {
   "cell_type": "code",
   "execution_count": null,
   "source": [
    "num_list = [0.1]*10\r\n",
    "sum(num_list)"
   ],
   "outputs": [],
   "metadata": {}
  },
  {
   "cell_type": "code",
   "execution_count": null,
   "source": [
    "math.fsum(num_list)"
   ],
   "outputs": [],
   "metadata": {}
  },
  {
   "cell_type": "markdown",
   "source": [
    "## Đọc nội dung 1 file"
   ],
   "metadata": {}
  },
  {
   "cell_type": "code",
   "execution_count": null,
   "source": [
    "import os\r\n",
    "os.getcwd()"
   ],
   "outputs": [],
   "metadata": {}
  },
  {
   "cell_type": "code",
   "execution_count": null,
   "source": [
    "open(\"../filekhongtontai.txt\")      # đường dẫn tuyệt đối và đường dẫn tương đối"
   ],
   "outputs": [],
   "metadata": {}
  },
  {
   "cell_type": "code",
   "execution_count": null,
   "source": [
    "open(\"../Pipfile\")"
   ],
   "outputs": [],
   "metadata": {}
  },
  {
   "cell_type": "code",
   "execution_count": null,
   "source": [
    "!dir .."
   ],
   "outputs": [],
   "metadata": {}
  },
  {
   "cell_type": "code",
   "execution_count": null,
   "source": [
    "!type ..\\Pipfile"
   ],
   "outputs": [],
   "metadata": {}
  },
  {
   "cell_type": "code",
   "execution_count": null,
   "source": [
    "file = open(\"..\\Pipfile\")\r\n",
    "file"
   ],
   "outputs": [],
   "metadata": {}
  },
  {
   "cell_type": "code",
   "execution_count": null,
   "source": [
    "file = open(\"..\\Pipfile\", mode='r')\r\n",
    "file.read()"
   ],
   "outputs": [],
   "metadata": {}
  },
  {
   "cell_type": "code",
   "execution_count": null,
   "source": [
    "file.read()"
   ],
   "outputs": [],
   "metadata": {}
  },
  {
   "cell_type": "code",
   "execution_count": null,
   "source": [
    "file.seek(0)        # vị trí byte số 0"
   ],
   "outputs": [],
   "metadata": {}
  },
  {
   "cell_type": "code",
   "execution_count": null,
   "source": [
    "file.read(5)"
   ],
   "outputs": [],
   "metadata": {}
  },
  {
   "cell_type": "code",
   "execution_count": null,
   "source": [
    "file.read(6)"
   ],
   "outputs": [],
   "metadata": {}
  },
  {
   "cell_type": "code",
   "execution_count": null,
   "source": [
    "file.tell()"
   ],
   "outputs": [],
   "metadata": {}
  },
  {
   "cell_type": "code",
   "execution_count": null,
   "source": [
    "file.read()"
   ],
   "outputs": [],
   "metadata": {}
  },
  {
   "cell_type": "code",
   "execution_count": null,
   "source": [
    "file.close()"
   ],
   "outputs": [],
   "metadata": {}
  },
  {
   "cell_type": "code",
   "execution_count": null,
   "source": [
    "file.read()"
   ],
   "outputs": [],
   "metadata": {}
  },
  {
   "cell_type": "markdown",
   "source": [
    "## Viết và thêm nội dung vào File"
   ],
   "metadata": {}
  },
  {
   "cell_type": "code",
   "execution_count": null,
   "source": [
    "file = open(\"..\\Pipfile\", mode='r')\r\n",
    "file.readline()"
   ],
   "outputs": [],
   "metadata": {}
  },
  {
   "cell_type": "code",
   "execution_count": null,
   "source": [
    "file.readline()"
   ],
   "outputs": [],
   "metadata": {}
  },
  {
   "cell_type": "code",
   "execution_count": null,
   "source": [
    "file.seek(0)"
   ],
   "outputs": [],
   "metadata": {}
  },
  {
   "cell_type": "code",
   "execution_count": null,
   "source": [
    "file.readlines()"
   ],
   "outputs": [],
   "metadata": {}
  },
  {
   "cell_type": "code",
   "execution_count": null,
   "source": [
    "contents = []\r\n",
    "with open('..\\Pipfile', 'r') as file_again:\r\n",
    "    for line in file_again:\r\n",
    "        contents.append(line.rstrip(\"\\n\"))"
   ],
   "outputs": [],
   "metadata": {}
  },
  {
   "cell_type": "code",
   "execution_count": null,
   "source": [
    "print(contents)"
   ],
   "outputs": [],
   "metadata": {}
  },
  {
   "cell_type": "code",
   "execution_count": null,
   "source": [
    "file.seek(0)"
   ],
   "outputs": [],
   "metadata": {}
  },
  {
   "cell_type": "code",
   "execution_count": null,
   "source": [
    "file_again.seek(0)"
   ],
   "outputs": [],
   "metadata": {}
  },
  {
   "cell_type": "code",
   "execution_count": null,
   "source": [
    "!type classiccars.txt"
   ],
   "outputs": [],
   "metadata": {}
  },
  {
   "cell_type": "code",
   "execution_count": null,
   "source": [
    "with open('classiccars.txt', 'a') as f:\r\n",
    "    more_cars = f.write(\"Buick\")\r\n",
    "    print(\"Number of characters: \", more_cars)"
   ],
   "outputs": [],
   "metadata": {}
  },
  {
   "cell_type": "code",
   "execution_count": null,
   "source": [
    "!type classiccars.txt"
   ],
   "outputs": [],
   "metadata": {}
  },
  {
   "cell_type": "code",
   "execution_count": null,
   "source": [
    "open(\"sportcars.txt\", \"r\")"
   ],
   "outputs": [],
   "metadata": {}
  },
  {
   "cell_type": "code",
   "execution_count": null,
   "source": [
    "with open(\"sportcars.txt\", \"w\") as f:\r\n",
    "    f.write(\"Mustang\")"
   ],
   "outputs": [],
   "metadata": {}
  },
  {
   "cell_type": "code",
   "execution_count": null,
   "source": [
    "!type sportcars.txt"
   ],
   "outputs": [],
   "metadata": {}
  },
  {
   "cell_type": "code",
   "execution_count": null,
   "source": [
    "sport_cars = [\"Agera\", \"Regera\", \"Chiron\", \"Veyron\"]"
   ],
   "outputs": [],
   "metadata": {}
  },
  {
   "cell_type": "code",
   "execution_count": null,
   "source": [
    "with open(\"sportcars.txt\", \"w\") as f:\r\n",
    "    for car in sport_cars:\r\n",
    "        f.write(car)"
   ],
   "outputs": [],
   "metadata": {}
  },
  {
   "cell_type": "code",
   "execution_count": null,
   "source": [
    "!type sportcars.txt"
   ],
   "outputs": [],
   "metadata": {}
  },
  {
   "cell_type": "markdown",
   "source": [
    "## File định dạng CSV và JSON"
   ],
   "metadata": {}
  },
  {
   "cell_type": "code",
   "execution_count": null,
   "source": [
    "!type gyms_equipment.csv"
   ],
   "outputs": [],
   "metadata": {}
  },
  {
   "cell_type": "code",
   "execution_count": null,
   "source": [
    "import csv\r\n",
    "\r\n",
    "with open('gyms_equipment.csv', \"r\") as f:\r\n",
    "    csv_reader = csv.reader(f)\r\n",
    "\r\n",
    "    for equipment in csv_reader:\r\n",
    "        print(equipment)"
   ],
   "outputs": [],
   "metadata": {}
  },
  {
   "cell_type": "code",
   "execution_count": null,
   "source": [
    "with open('gyms_equipment_headings.csv', \"r\") as f:\r\n",
    "    csv_reader = csv.DictReader(f)\r\n",
    "\r\n",
    "    for equipment in csv_reader:\r\n",
    "        print(equipment)"
   ],
   "outputs": [],
   "metadata": {}
  },
  {
   "cell_type": "code",
   "execution_count": null,
   "source": [
    "import pandas as pd\r\n",
    "df = pd.read_csv('gyms_equipment_headings.csv')"
   ],
   "outputs": [],
   "metadata": {}
  },
  {
   "cell_type": "code",
   "execution_count": null,
   "source": [
    "import json"
   ],
   "outputs": [],
   "metadata": {}
  },
  {
   "cell_type": "code",
   "execution_count": null,
   "source": [
    "dogs_and_ages = {'Oba': 8, 'Teddy': 10, 'Nemo': 2.5}"
   ],
   "outputs": [],
   "metadata": {}
  },
  {
   "cell_type": "code",
   "execution_count": null,
   "source": [
    "json_string = json.dumps(dogs_and_ages)\r\n",
    "json_string"
   ],
   "outputs": [],
   "metadata": {}
  },
  {
   "cell_type": "code",
   "execution_count": null,
   "source": [
    "type(json_string)"
   ],
   "outputs": [],
   "metadata": {}
  },
  {
   "cell_type": "code",
   "execution_count": null,
   "source": [
    "cake_json_string = \"\"\"\r\n",
    "{\r\n",
    "    \"id\": \"0001\",\r\n",
    "    \"type\": \"donut\",\r\n",
    "    \"name\": \"Cake\",\r\n",
    "    \"ppu\": 0.55,\r\n",
    "    \"batters\":\r\n",
    "        {\r\n",
    "            \"batter\":\r\n",
    "                [\r\n",
    "                    { \"id\": \"1001\", \"type\": \"Regular\" },\r\n",
    "                    { \"id\": \"1002\", \"type\": \"Chocolate\" },\r\n",
    "                    { \"id\": \"1003\", \"type\": \"Blueberry\" },\r\n",
    "                    { \"id\": \"1004\", \"type\": \"Devil's Food\" }\r\n",
    "                ]\r\n",
    "        },\r\n",
    "    \"topping\":\r\n",
    "        [\r\n",
    "            { \"id\": \"5001\", \"type\": \"None\" },\r\n",
    "            { \"id\": \"5002\", \"type\": \"Glazed\" },\r\n",
    "            { \"id\": \"5005\", \"type\": \"Sugar\" },\r\n",
    "            { \"id\": \"5007\", \"type\": \"Powdered Sugar\" },\r\n",
    "            { \"id\": \"5006\", \"type\": \"Chocolate with Sprinkles\" },\r\n",
    "            { \"id\": \"5003\", \"type\": \"Chocolate\" },\r\n",
    "            { \"id\": \"5004\", \"type\": \"Maple\" }\r\n",
    "        ]\r\n",
    "}\r\n",
    "\"\"\"\r\n",
    "cake_dict = json.loads(cake_json_string)\r\n",
    "cake_dict"
   ],
   "outputs": [],
   "metadata": {}
  },
  {
   "cell_type": "code",
   "execution_count": null,
   "source": [
    "type(cake_dict)"
   ],
   "outputs": [],
   "metadata": {}
  },
  {
   "cell_type": "code",
   "execution_count": null,
   "source": [
    "with open('data.json', 'w') as cake_file:\r\n",
    "    json.dump(cake_dict, cake_file)"
   ],
   "outputs": [],
   "metadata": {}
  },
  {
   "cell_type": "code",
   "execution_count": null,
   "source": [
    "with open('data.json', 'r') as cake_file:\r\n",
    "    file_json = json.load(cake_file)\r\n",
    "\r\n",
    "file_json"
   ],
   "outputs": [],
   "metadata": {}
  }
 ],
 "metadata": {
  "orig_nbformat": 4,
  "language_info": {
   "name": "python",
   "version": "3.9.5",
   "mimetype": "text/x-python",
   "codemirror_mode": {
    "name": "ipython",
    "version": 3
   },
   "pygments_lexer": "ipython3",
   "nbconvert_exporter": "python",
   "file_extension": ".py"
  },
  "kernelspec": {
   "name": "python3",
   "display_name": "Python 3.9.5 64-bit ('python_tester_env': venv)"
  },
  "interpreter": {
   "hash": "24cd0c75bfe4a706d6789947de4493a267f99aa12d72755b5ca874abcfbcc979"
  }
 },
 "nbformat": 4,
 "nbformat_minor": 2
}