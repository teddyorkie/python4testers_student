{
 "cells": [
  {
   "cell_type": "markdown",
   "source": [
    "## Regular Expression - Biểu thức thường quy\r\n",
    "\r\n",
    "Dùng nhiều trong thực tế. Ngắn gọn nhưng rất khó đọc, và khó hiểu\r\n",
    "Vấn đề chung: Cho một chuỗi (file contents, log, website source,...) xác định xem chuỗi có khớp một mẫu cho sẵn hoặc thu thập những chuỗi con chứa những thông tin cần thiết. Vd:\r\n",
    "* chuỗi có phải là đường dẫn URL hợp lệ\r\n",
    "* ngày giờ của những thông báo warning trong log file?\r\n",
    "* username và document nào được người dùng yêu cầu qua URL"
   ],
   "metadata": {}
  },
  {
   "cell_type": "code",
   "execution_count": null,
   "source": [
    "import re\r\n",
    "\r\n",
    "search_string = \"hello world\"\r\n",
    "pattern = \"hello world\"\r\n",
    "\r\n",
    "match = re.match(pattern, search_string)\r\n",
    "\r\n",
    "if match:\r\n",
    "    print(\"regex matches\")"
   ],
   "outputs": [],
   "metadata": {}
  },
  {
   "cell_type": "code",
   "execution_count": null,
   "source": [
    "from IPython.core.interactiveshell import InteractiveShell\r\n",
    "InteractiveShell.ast_node_interactivity = \"all\"\r\n",
    "\r\n",
    "def regex_generic(search_string, pattern):\r\n",
    "    match = re.match(pattern, search_string)\r\n",
    "\r\n",
    "    if match:\r\n",
    "        template = \"Chuỗi '{}' khớp với mẫu '{}'\"\r\n",
    "    else:\r\n",
    "        template = \"Chuỗi '{}' KHÔNG khớp với mẫu '{}'\"\r\n",
    "\r\n",
    "    print(template.format(search_string, pattern))"
   ],
   "outputs": [],
   "metadata": {}
  },
  {
   "cell_type": "code",
   "execution_count": null,
   "source": [
    "regex_generic(\"hello world\", \"hello worl\")\r\n",
    "regex_generic(\"hello world\", \"ello world\")"
   ],
   "outputs": [],
   "metadata": {}
  },
  {
   "cell_type": "code",
   "execution_count": null,
   "source": [
    "regex_generic(\"hello world\", \"^hello world$\")   # đầu và đuôi\r\n",
    "regex_generic(\"hello worl\", \"^hello world$\")"
   ],
   "outputs": [],
   "metadata": {}
  },
  {
   "cell_type": "markdown",
   "source": [
    "## Dấu . trong mẫu khớp với bất kỳ chữ cái nào."
   ],
   "metadata": {}
  },
  {
   "cell_type": "code",
   "execution_count": null,
   "source": [
    "regex_generic(\"hello world\", \"hel.o world\")\r\n",
    "regex_generic(\"helpo world\", \"hel.o world\")\r\n",
    "regex_generic(\"hel o world\", \"hel.o world\")\r\n",
    "regex_generic(\"helo world\", \"hel.o world\")"
   ],
   "outputs": [],
   "metadata": {}
  },
  {
   "cell_type": "code",
   "execution_count": null,
   "source": [
    "regex_generic(\"hello   world\", \"hello [a-z] world\")\r\n",
    "regex_generic(\"hello b world\", \"hello [a-z] world\")\r\n",
    "regex_generic(\"hello 2 world\", \"hello [a-zA-Z0-9] world\")"
   ],
   "outputs": [],
   "metadata": {}
  },
  {
   "cell_type": "markdown",
   "source": [
    "## Ký tự đặc biệt"
   ],
   "metadata": {}
  },
  {
   "cell_type": "code",
   "execution_count": null,
   "source": [
    "regex_generic(\"0.05\", \"0\\.[0-9][0-9]\")\r\n",
    "regex_generic(\"005\", \"0\\.[0-9][0-9]\")\r\n",
    "regex_generic(\"0,05\", \"0\\.[0-9][0-9]\")"
   ],
   "outputs": [],
   "metadata": {}
  },
  {
   "cell_type": "code",
   "execution_count": null,
   "source": [
    "regex_generic(\"(abc]\", \"\\(abc\\]\")   # \\ khớp ký tự liền sau\r\n",
    "regex_generic(\" 1a\", \"\\s\\d\\w\")      # \\s thay cho khoảng trắng, \\w thay cho chữ, số hoặc _ và \\d thay cho chữ số\r\n",
    "regex_generic(\"\\t5n\", \"s\\d\\w\")      # \\t thay cho TAB"
   ],
   "outputs": [],
   "metadata": {}
  },
  {
   "cell_type": "markdown",
   "source": [
    "## Khớp nhiều ký tự"
   ],
   "metadata": {}
  },
  {
   "cell_type": "code",
   "execution_count": null,
   "source": [
    "regex_generic(\"hello\", \"hel*o\")\r\n",
    "regex_generic(\"heo\", \"hel*o\")              # ký tự liền trước xuất hiện 0 hoặc nhiều lần\r\n",
    "regex_generic(\"hellllllo\", \"hel*o\")"
   ],
   "outputs": [],
   "metadata": {}
  },
  {
   "cell_type": "code",
   "execution_count": null,
   "source": [
    "# thú vị hơn khi ta dùng * với nhóm ký tự hoặc .\r\n",
    "regex_generic(\"A string.\", \"[A-Z][a-z]* [a-z]*\\.\")          # chỉ cho phép 1 khoảng trắng (2 từ)\r\n",
    "regex_generic(\"No .\", \"[A-Z][a-z]* [a-z]*\\.\")\r\n",
    "regex_generic(\"\", \"[a-z]*.*\")"
   ],
   "outputs": [],
   "metadata": {}
  },
  {
   "cell_type": "code",
   "execution_count": null,
   "source": [
    "regex_generic(\"0.4\", \"\\d+\\.\\d+\")            # dấu + tương tự dấu * nhưng cần ít nhất 1 lần xuất hiện\r\n",
    "regex_generic(\"1.002\", \"\\d+\\.\\d+\")\r\n",
    "regex_generic(\"1.\", \"\\d+\\.\\d+\")\r\n",
    "regex_generic(\"01%\", \"\\d?\\d%\")              # dấu ? cho phép 0 hoặc 1 lần nhưng không được hơn\r\n",
    "regex_generic(\"99%\", \"\\d?\\d%\")\r\n",
    "regex_generic(\"999%\", \"\\d?\\d%\")"
   ],
   "outputs": [],
   "metadata": {}
  },
  {
   "cell_type": "markdown",
   "source": [
    "## Nhóm các mẫu lại với nhau"
   ],
   "metadata": {}
  },
  {
   "cell_type": "code",
   "execution_count": null,
   "source": [
    "regex_generic(\"abccc\", \"abc{3}\")\r\n",
    "regex_generic(\"abccc\", \"(abc){3}\")          # dùng () để nhóm lại nhiều ký tự như một\r\n",
    "regex_generic(\"abcabcabc\", \"(abc){3}\")"
   ],
   "outputs": [],
   "metadata": {}
  },
  {
   "cell_type": "code",
   "execution_count": null,
   "source": [
    "# kết hợp nhóm và dấu lặp lại bắt đầu cho ta muôn vàn khả năng. Một câu tiếng Anh đơn giản có thể được khớp như sau\r\n",
    "regex_generic(\"Eat.\", \"[A-Z][a-z]*( [a-z]+)*\\.$\")\r\n",
    "regex_generic(\"Eat more good food.\", \"[A-Z][a-z]*( [a-z]+)*\\.$\")\r\n",
    "regex_generic(\"A good meal.\", \"[A-Z][a-z]*( [a-z]+)*\\.$\")"
   ],
   "outputs": [],
   "metadata": {}
  },
  {
   "cell_type": "markdown",
   "source": [
    "## Lấy ra những giá trị cần thiết từ RE"
   ],
   "metadata": {}
  },
  {
   "cell_type": "code",
   "execution_count": null,
   "source": [
    "pattern = \"^[a-zA-Z.]+@([a-z.]*\\.[a-z]+)$\" \r\n",
    "search_string = \"some.user@example.com\" \r\n",
    "match = re.match(pattern, search_string) \r\n",
    " \r\n",
    "if match: \r\n",
    "    domain = match.groups()[0] \r\n",
    "    print(domain) "
   ],
   "outputs": [],
   "metadata": {}
  },
  {
   "cell_type": "code",
   "execution_count": null,
   "source": [
    "import re\r\n",
    "re.findall('a.', 'abacadefagah')            # Không có nhóm (), trả ra các chuỗi con khớp với mẫu\r\n",
    "re.findall('a(.)', 'abacadefagah')          # Có 1 nhóm, trả ra một list các giá trị trong nhóm\r\n",
    "re.findall('(a)(.)', 'abacadefagah')        # Có nhiều nhóm, trả ra list những tuple mà mỗi tuple chứa lần lượt các giá trị khớp với nhóm\r\n",
    "re.findall('((a)(.))', 'abacadefagah')      #   tương tự trên, trả ra nhóm cha và các nhóm con."
   ],
   "outputs": [],
   "metadata": {}
  },
  {
   "cell_type": "code",
   "execution_count": null,
   "source": [
    "# Một vài ví dụ thực tiễn\r\n",
    "# Ngày tháng năm    \"\\d{2}-\\d{2}-\\d{4}\"\r\n",
    "phoneNumRegex = re.compile(r'\\d\\d\\d-\\d\\d\\d-\\d\\d\\d\\d')\r\n",
    "match_obj = phoneNumRegex.search('My number is 415-555-4242.')\r\n",
    "print('Phone number found: ' + match_obj.group())"
   ],
   "outputs": [],
   "metadata": {}
  }
 ],
 "metadata": {
  "orig_nbformat": 4,
  "language_info": {
   "name": "python",
   "version": "3.9.5",
   "mimetype": "text/x-python",
   "codemirror_mode": {
    "name": "ipython",
    "version": 3
   },
   "pygments_lexer": "ipython3",
   "nbconvert_exporter": "python",
   "file_extension": ".py"
  },
  "kernelspec": {
   "name": "python3",
   "display_name": "Python 3.9.5 64-bit ('python_tester_env': venv)"
  },
  "interpreter": {
   "hash": "24cd0c75bfe4a706d6789947de4493a267f99aa12d72755b5ca874abcfbcc979"
  }
 },
 "nbformat": 4,
 "nbformat_minor": 2
}