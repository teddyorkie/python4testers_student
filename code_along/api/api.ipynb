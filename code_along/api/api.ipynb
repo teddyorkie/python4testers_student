{
 "cells": [
  {
   "cell_type": "markdown",
   "metadata": {},
   "source": [
    "## Các khái niệm quan trọng\n",
    "\n",
    "#### Protocol - giao thức\n",
    "Cách thức được xác định để giao tiếp qua internet. Internet được xây dựng trên các giao thức xác định chặt chẽ cách thức gửi và nhận thông tin. Ví dụ một số giao thức: TCP, IP, HTTP, FTP, POP3, ...\n",
    "\n",
    "#### HTTP - HyperText Transfer Protocol\n",
    "Giao thức cho phép client (máy khách) lấy hoặc thiết lập dữ liệu (tài nguyên - resource) trên server (máy chủ)\n",
    "\n",
    "#### IP Address\n",
    "Giao thức IP điều chỉnh cách dữ liệu được gửi qua mạng từ máy tính này sang máy tính khác, mỗi máy tính có ít nhất một địa chỉ IP DUY NHẤT trên web\n",
    "\n",
    "#### DNS - Domain Name System\n",
    "Là hệ thống chuyển đổi tên miền, ví dụ https://techmaster.vn sang địa chỉ IP 45.118.144.97, máy tính chỉ có thể kết nối thông qua IP\n",
    "\n",
    "#### HTTP Status Code\n",
    "Một mã số cho biết kết quả của yêu cầu HTTP. Nói chung, 2xx là thành công, 3xx là chuyển hướng, 4xx là lỗi phía client, 5xx là lỗi phía server\n",
    "\n",
    "#### API - Application Programming Interface\n",
    "API là một tập hợp các quy tắc/công cụ để xây dựng/tích hợp các hệ thống phần mềm, cho phép các hệ thống khác nhau giao tiếp và trao đổi dữ liệu"
   ]
  },
  {
   "cell_type": "markdown",
   "metadata": {},
   "source": [
    "## Các thành phần của URL\n",
    "\n",
    "URL (Uniform Resource Locator) là một trong những khái niệm chính của Web. URL là địa chỉ của một resource trên Web, resource có thể là một trang HTML, hình ảnh, video, ...\n",
    "\n",
    "Mỗi URL bao gồm một số thành phần:\n",
    "\n",
    "Ví dụ URL: \n",
    "\n",
    "`https://techmaster.vn/posts?category=react-js&author=ba`\n",
    "\n",
    "- `https://`: Protocol, `http` và `https` là giao thức phổ biến nhất để trao đổi thông tin trên Internet\n",
    "- `techmaster.vn`: Domain, địa chỉ trang web mà con người có thể đọc và nhớ dễ dàng\n",
    "- `/posts`: Path hoặc `Route`, đường dẫn đến resource trên server. Path có thể trỏ đến một file cụ thể, hoặc một loại resource trừu tượng mà máy chủ có thể tạo ra.\n",
    "- `category=react-js&author=ba`: Parameters, là các thông tin bổ sung thêm, có dạng khóa=giá-trị, mỗi cặp khóa=giá-trị được phân tách bằng một dấu `&`, tập hợp tất cả các parameters được gọi là chuỗi truy vấn (query) và bắt đầu bằng ký tự `?`. Query có thể được server sử dụng để thay đổi resource trả về."
   ]
  },
  {
   "cell_type": "markdown",
   "metadata": {},
   "source": [
    "## HTTP Request vs HTTP Response\n",
    "\n",
    "Request là yêu cầu được gửi từ client để kích hoạt một hành động trên server, và response là câu trả lời từ server. Request và Response (được gọi chung là HTTP Messages) có cấu trúc tương tự nhau\n",
    "\n",
    "### HTTP Request\n",
    "\n",
    "Request bao gồm 3 phần\n",
    "\n",
    "#### Start line\n",
    "Bao gồm một số thông tin:\n",
    "- `HTTP Methods` (còn gọi là `Verbs`) mô tả hành động mà server cần thực hiện\n",
    "- `Target`, thường là URL, chỉ định địa chỉ nhận yêu cầu\n",
    "\n",
    "#### Header\n",
    "Bao gồm một số thông tin bổ sung, ví dụ cookie, thông tin xác thực, kiểu dữ liệu gửi đi, các thông tin về trình duyệt, ...\n",
    "\n",
    "#### Body\n",
    "Dữ liệu mà client muốn gửi đến server\n",
    "\n",
    "### HTTP Response\n",
    "Response cũng bao gồm 3 phần\n",
    "\n",
    "#### Status line\n",
    "Bao gồm một số thông tin:\n",
    "- `Status Code`: Mã trạng thái cho biết request thực hiện thành công hay thất bại\n",
    "- `Status Text`: Văn bản ngắn gọn mô tả cho trạng thái\n",
    "\n",
    "#### Header\n",
    "Tương tự request, response cũng có thể chứa các thông tin bổ sung, như thiết lập cookie phía client, loại dữ liệu mà server phản hồi, ...\n",
    "\n",
    "#### Body\n",
    "Dữ liệu mà server trả về cho client"
   ]
  },
  {
   "cell_type": "markdown",
   "metadata": {},
   "source": [
    "## HTTP Methods (HTTP Verbs)\n",
    "\n",
    "Là thành phần quan trọng của mỗi request, method cho server biết phải thực hiện hành động gì, một vài method phổ biến:\n",
    "\n",
    "- `GET`: Lấy dữ liệu từ server\n",
    "- `POST`: Tạo hoặc sửa đổi dữ liệu trên server\n",
    "- `PUT`: Cập nhật dữ liệu hiện có trên server\n",
    "- `DELETE`: Xóa dữ liệu khỏi server\n",
    "\n",
    "## HTTP Statuses\n",
    "\n",
    "Là thành phần quan trọng của mỗi response, cho client biết request vừa gửi đi có được thực hiện thành công hay không\n",
    "\n",
    "- `2xx`: Thành công\n",
    "- `3xx`: Chuyển hướng\n",
    "- `4xx`: Lỗi phía client\n",
    "- `5xx`: Lỗi phía server\n"
   ]
  }
 ],
 "metadata": {
  "interpreter": {
   "hash": "b0fa6594d8f4cbf19f97940f81e996739fb7646882a419484c72d19e05852a7e"
  },
  "kernelspec": {
   "display_name": "Python 3.9.6 64-bit",
   "name": "python3"
  },
  "language_info": {
   "codemirror_mode": {
    "name": "ipython",
    "version": 3
   },
   "file_extension": ".py",
   "mimetype": "text/x-python",
   "name": "python",
   "nbconvert_exporter": "python",
   "pygments_lexer": "ipython3",
   "version": "3.9.6"
  },
  "orig_nbformat": 4
 },
 "nbformat": 4,
 "nbformat_minor": 2
}
