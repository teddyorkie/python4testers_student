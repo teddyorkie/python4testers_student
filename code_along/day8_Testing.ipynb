{
 "cells": [
  {
   "cell_type": "markdown",
   "source": [
    "### Chạy tập con các test\r\n",
    "```\r\n",
    "cd pytest\r\n",
    "pytest -k spend -v\r\n",
    "\r\n",
    "pytest -m ini -v .\\test_wallet.py\r\n",
    "\r\n",
    "# marker đã được đăng ký trong pytest.ini,\r\n",
    "# cd hackathon2\r\n",
    "pytest -m easy -v\r\n",
    "```"
   ],
   "metadata": {}
  },
  {
   "cell_type": "markdown",
   "source": [
    "## Fixtures\r\n",
    "```\r\n",
    "pytest --fixture\r\n",
    "```"
   ],
   "metadata": {}
  },
  {
   "cell_type": "markdown",
   "source": [
    "## Tham số hóa các hàm test với @pytest.mark.parametrize\r\n",
    "```\r\n",
    "@pytest.fixture\r\n",
    "def my_wallet():\r\n",
    "    '''Returns a Wallet instance with a zero balance'''\r\n",
    "    return Wallet()\r\n",
    "\r\n",
    "@pytest.mark.parametrize(\"earned,spent,expected\", [\r\n",
    "    (30, 10, 20),\r\n",
    "    (20, 2, 18),\r\n",
    "])\r\n",
    "def test_transactions(my_wallet, earned, spent, expected):\r\n",
    "    my_wallet.add_cash(earned)\r\n",
    "    my_wallet.spend_cash(spent)\r\n",
    "    assert my_wallet.balance == expected\r\n",
    "```"
   ],
   "metadata": {}
  },
  {
   "cell_type": "markdown",
   "source": [
    "## Liệt kê các test chạy chậm nhất\r\n",
    "```\r\n",
    "pytest --durations=3\r\n",
    "3.03s call     test_code.py::test_request_read_timeout\r\n",
    "1.07s call     test_code.py::test_request_connection_timeout\r\n",
    "0.57s call     test_code.py::test_database_read\r\n",
    "======================== 7 passed in 10.06s ==============================\r\n",
    "```"
   ],
   "metadata": {}
  },
  {
   "cell_type": "markdown",
   "source": [
    "## Giả lập (Mock) những đối tượng bên ngoài\r\n",
    "\r\n",
    "1. Dùng [reqbin](https://reqbin.com/curl)\r\n",
    "\r\n",
    "`curl -X GET 'http://jsonplaceholder.typicode.com/todos'`\r\n",
    "\r\n",
    "2. TDD - Test Driven Development\r\n",
    "3. Refactor code into files (services.py & constants.py)\r\n",
    "4. First Mock (mock_get.return_value.ok = True)\r\n",
    "5. Other ways to patch\r\n",
    "    1. `with patch('services.requests.get') as mock_get:`\r\n",
    "    2. Dùng patcher\r\n",
    "6. So sánh 3 cách:\r\n",
    "    * Sử dụng decorator khi tất cả mã trong nội dung hàm test dùng chung 1 mock.\r\n",
    "    * Dùng context manager khi một số mã trong hàm test dùng 1 mock và đoạn code khác cần dùng chức năng thực.\r\n",
    "    * Dùng patcher khi bạn cần bắt đầu và stop() mocking chức năng một cách rõ ràng trong nhiều test (ví dụ: các chức năng setUp() và tearDown() trong một lớp test).\r\n",
    "7. Mock tất cả các hành vi của service: \r\n",
    "    * Ở bước 6 là mock thành công. Bây giờ cần mock cả dữ liệu"
   ],
   "metadata": {}
  },
  {
   "cell_type": "markdown",
   "source": [
    "## Test bao nhiêu là đủ??\r\n",
    "\r\n",
    "Độ phủ của mã là số dòng mã ước tính được thực thi bởi các testcase. Nếu chúng ta biết con số đó và tổng số dòng code trong chương trình, chúng ta có thể ước tính được số phần trăm mã đã thực sự được kiểm tra. Nếu ta có thêm một chỉ báo về những dòng nào chưa được test, ta có thể dễ dàng viết thêm các bài kiểm tra mới hơn để đảm bảo những dòng đó được cover.\r\n",
    "\r\n",
    "```\r\n",
    "!pip install coverage\r\n",
    "coverage run test_main.py       # sinh ra file .coverage\r\n",
    "coverage report -m test_main.py\r\n",
    "coverage html\r\n",
    "\r\n",
    "coverage report -m .\\test_main.py\r\n",
    "```\r\n",
    "\r\n",
    "Dùng pytest-cov để xem Test Coverage\r\n",
    "```\r\n",
    "pytest -v --cov=test_main --cov-report=html\r\n",
    "```"
   ],
   "metadata": {}
  },
  {
   "cell_type": "markdown",
   "source": [
    "## Test API với [reqres.in](https://reqres.in/)\r\n"
   ],
   "metadata": {}
  },
  {
   "cell_type": "markdown",
   "source": [
    "## Các tính năng khác\r\n",
    "* XFail\r\n",
    "* Tham số condition, reason, raises, run, strict\r\n",
    "* Chạy test song song với `pytest-xdist`\r\n",
    "* Tất cả trong [documentation](https://docs.pytest.org/en/latest/contents.html)"
   ],
   "metadata": {}
  }
 ],
 "metadata": {
  "orig_nbformat": 4,
  "language_info": {
   "name": "python",
   "version": "3.9.7"
  },
  "kernelspec": {
   "name": "python3",
   "display_name": "Python 3.9.7 64-bit ('python_tester_env': venv)"
  },
  "interpreter": {
   "hash": "bd454e041cfbb879d13b54c8ad3696129392157108d388f38111cd59b6a48c26"
  }
 },
 "nbformat": 4,
 "nbformat_minor": 2
}